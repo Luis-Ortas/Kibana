{
 "cells": [
  {
   "cell_type": "markdown",
   "id": "d9f8a887",
   "metadata": {},
   "source": [
    "# <font color='#d50283'>IT Academy - Data Science</font>\n",
    "## S15 T01: Visualització interactiva amb ElasticSearch Stack\n",
    "### Luis Ortas\n",
    "\n",
    "Comencem a familiaritzar-nos la visualització interactiva de gràfics mitjançant Kibana."
   ]
  },
  {
   "cell_type": "markdown",
   "id": "55da73da",
   "metadata": {},
   "source": [
    "***\n",
    "### Exercici 1\n",
    "\n",
    "**Descarrega't Kibana i mostra algunes gràfiques utilitzant conjunts de dades d'Exemple.**"
   ]
  },
  {
   "cell_type": "markdown",
   "id": "31bc50f5",
   "metadata": {
    "ExecuteTime": {
     "end_time": "2022-04-06T08:18:37.450580Z",
     "start_time": "2022-04-06T08:18:37.434580Z"
    }
   },
   "source": [
    "* Intalación de elasticsearch\n",
    "\n",
    "* Instalación de KIbana."
   ]
  },
  {
   "cell_type": "markdown",
   "id": "5dcaf142",
   "metadata": {
    "ExecuteTime": {
     "end_time": "2022-04-06T08:26:02.654541Z",
     "start_time": "2022-04-06T08:26:02.634989Z"
    }
   },
   "source": [
    "Dicover permite analizar los datos. En la imagen observamos los datos de ejemolo de kibana, Data_flights"
   ]
  },
  {
   "cell_type": "markdown",
   "id": "f7e5f663",
   "metadata": {
    "ExecuteTime": {
     "end_time": "2022-04-06T08:24:15.590674Z",
     "start_time": "2022-04-06T08:24:15.571677Z"
    }
   },
   "source": [
    "<img src=\"discover.png\">"
   ]
  },
  {
   "cell_type": "markdown",
   "id": "fd249015",
   "metadata": {},
   "source": [
    "La opción \"Field statistics\" da información estadistico de los diferentes atributos."
   ]
  },
  {
   "cell_type": "markdown",
   "id": "76272f08",
   "metadata": {
    "ExecuteTime": {
     "end_time": "2022-04-06T08:30:10.432302Z",
     "start_time": "2022-04-06T08:30:10.411300Z"
    }
   },
   "source": [
    "<img src=\"Discover Stativcs.png\">"
   ]
  },
  {
   "cell_type": "markdown",
   "id": "c81edeb9",
   "metadata": {
    "ExecuteTime": {
     "end_time": "2022-04-06T08:31:02.577131Z",
     "start_time": "2022-04-06T08:31:02.554106Z"
    }
   },
   "source": [
    "**Kibana también nos presenta dashboard de ejemplo.**"
   ]
  },
  {
   "cell_type": "markdown",
   "id": "0e287919",
   "metadata": {
    "ExecuteTime": {
     "end_time": "2022-04-06T09:15:20.398334Z",
     "start_time": "2022-04-06T09:15:20.390333Z"
    }
   },
   "source": [
    "<img src=\"dashboardejemplo.png\">"
   ]
  },
  {
   "cell_type": "markdown",
   "id": "e4d73669",
   "metadata": {},
   "source": [
    "***\n",
    "### Exercici 2\n",
    "Implementa un dashboard que visualitzi interactivament les dades que triïs."
   ]
  },
  {
   "cell_type": "markdown",
   "id": "1ea80276",
   "metadata": {},
   "source": [
    "Utilizaremos el data set del historico de las olimpiadas que ya hemos utilizado anteriormente:\n",
    "\n",
    "https://www.kaggle.com/datasets/heesoo37/120-years-of-olympic-history-athletes-and-results"
   ]
  },
  {
   "cell_type": "markdown",
   "id": "7395a139",
   "metadata": {
    "ExecuteTime": {
     "end_time": "2022-04-06T09:29:34.784675Z",
     "start_time": "2022-04-06T09:29:34.771164Z"
    }
   },
   "source": [
    "<img src=\"olimpiadas.png\">"
   ]
  },
  {
   "cell_type": "markdown",
   "id": "b6b53455",
   "metadata": {},
   "source": [
    "Creamos un Dashboard en el que incluimos:\n",
    "    \n",
    "  - Controles: Podemos seleccionar el intervalo de años y el pais.\n",
    "  - Metrica con el total de atletas.\n",
    "  - Un donut separando los atletas por genero.\n",
    "  - Un treemap con el porcentaje de participación por paises.\n",
    "  - Un grafico de barra con la participación y el número de medallas\n",
    "\n",
    "El dashboard nos permite analizar por paises y generos la participación y el número de medallas obtenidas en los diferentes juegos olimpicos.\n",
    "    "
   ]
  },
  {
   "cell_type": "markdown",
   "id": "4eac27ae",
   "metadata": {
    "ExecuteTime": {
     "end_time": "2022-04-06T09:37:44.417465Z",
     "start_time": "2022-04-06T09:37:44.410461Z"
    }
   },
   "source": [
    "<img src=\"atletas.png\">"
   ]
  },
  {
   "cell_type": "markdown",
   "id": "5eac0d66",
   "metadata": {},
   "source": [
    "***\n",
    "\n",
    "### Exercici 3\n",
    "Implementa un dashboard que generi gràfics utilitzant cadascun dels diferents tipus de gràfics que ofereix Kibana."
   ]
  },
  {
   "cell_type": "markdown",
   "id": "adcf4aa1",
   "metadata": {
    "ExecuteTime": {
     "end_time": "2022-04-06T09:40:51.559366Z",
     "start_time": "2022-04-06T09:40:51.537850Z"
    }
   },
   "source": [
    "Creamos un Dashboard utilizando los datos de ejemplo **data_ecomerce**.\n",
    "\n",
    "Utilizamos diferentes visualizaciones:\n",
    "\n",
    "- Grafico de barras horizontales.\n",
    "- Pastel con atributos concentricos.\n",
    "- Una medida.\n",
    "- Una tabla.\n",
    "- Una nube de tags,\n",
    "- Grafico de barras apiladas.\n",
    "- Gráfico de areas apiladas.\n",
    "- Gráfico de lineas.\n",
    "- Mapa cloropletico con el total de ventas por pais."
   ]
  },
  {
   "cell_type": "markdown",
   "id": "a3f300b3",
   "metadata": {
    "ExecuteTime": {
     "end_time": "2022-04-06T10:02:35.538551Z",
     "start_time": "2022-04-06T10:02:35.525548Z"
    }
   },
   "source": [
    "<img src=\"ecomerce1.png\">"
   ]
  },
  {
   "cell_type": "markdown",
   "id": "b63a551e",
   "metadata": {},
   "source": [
    "<img src=\"ecomerce2.png\">"
   ]
  },
  {
   "cell_type": "markdown",
   "id": "30595ff9",
   "metadata": {
    "ExecuteTime": {
     "end_time": "2022-04-06T10:03:41.008159Z",
     "start_time": "2022-04-06T10:03:41.001161Z"
    }
   },
   "source": [
    "***"
   ]
  }
 ],
 "metadata": {
  "kernelspec": {
   "display_name": "Python 3",
   "language": "python",
   "name": "python3"
  },
  "language_info": {
   "codemirror_mode": {
    "name": "ipython",
    "version": 3
   },
   "file_extension": ".py",
   "mimetype": "text/x-python",
   "name": "python",
   "nbconvert_exporter": "python",
   "pygments_lexer": "ipython3",
   "version": "3.8.8"
  }
 },
 "nbformat": 4,
 "nbformat_minor": 5
}
